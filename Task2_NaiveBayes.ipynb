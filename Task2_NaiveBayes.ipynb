{
  "nbformat": 4,
  "nbformat_minor": 0,
  "metadata": {
    "colab": {
      "name": "Task2_NaiveBayes_forusing.ipynb",
      "provenance": [],
      "collapsed_sections": []
    },
    "kernelspec": {
      "name": "python3",
      "display_name": "Python 3"
    }
  },
  "cells": [
    {
      "cell_type": "code",
      "metadata": {
        "id": "kZQJuXYhHeK7"
      },
      "source": [
        "import pandas as pd\r\n",
        "import numpy as np\r\n",
        "import matplotlib.pyplot as plt\r\n",
        "import seaborn as sns\r\n",
        "import time\r\n",
        "\r\n",
        "%matplotlib inline\r\n",
        "pd.get_option(\"display.max_columns\")\r\n",
        "\r\n",
        "from sklearn.model_selection import train_test_split\r\n",
        "from sklearn.metrics import classification_report, confusion_matrix, accuracy_score\r\n",
        "from sklearn.datasets import make_blobs\r\n",
        "from scipy.stats import norm\r\n",
        "cmap = sns.diverging_palette(220, 10, as_cmap=True) # цветовая палитра для seaborn \r\n",
        "\r\n",
        "import warnings\r\n",
        "warnings.filterwarnings('ignore')\r\n",
        "\r\n",
        "num_iterations = 10 # количество итераций для замера времени\r\n",
        "accuracy = pd.DataFrame(columns=['accuracy'])"
      ],
      "execution_count": 4,
      "outputs": []
    },
    {
      "cell_type": "markdown",
      "metadata": {
        "id": "wq_rOyXOH9jd"
      },
      "source": [
        "N, M, R_min, R_max = количество классов(4), количество элементов в классе(745), диапазон значений точности(мин = .700, мах = .750)\r\n",
        "параметры, дающие значение accuraccy = 0.723: \r\n",
        "- n_samples = 766 (количество элементов всего, 766*6);\r\n",
        "- centers = 6 (количество классов);\r\n",
        "- n_features=2 (количество признаков);\r\n",
        "- cluster_std = 1.85 (Стандартное отклонение кластеров);\r\n",
        "- random_state=0 (для фиксации).\r\n"
      ]
    },
    {
      "cell_type": "code",
      "metadata": {
        "id": "rypnYf70Hoco"
      },
      "source": [
        "N, M, R_min, R_max = 4, 745*4, .700, .750"
      ],
      "execution_count": 5,
      "outputs": []
    },
    {
      "cell_type": "code",
      "metadata": {
        "colab": {
          "base_uri": "https://localhost:8080/",
          "height": 359
        },
        "id": "P5tbl4CnIItX",
        "outputId": "2941d405-4d95-4949-eba7-19d3b2d99473"
      },
      "source": [
        "# Генерация четырех классов, каждый из которых представим в виде двух признаков\r\n",
        " \r\n",
        "X, y = make_blobs(n_samples=M, centers=N, n_features=2,\r\n",
        "                  cluster_std = 1.85,\r\n",
        "                   random_state=0)\r\n",
        " \r\n",
        "# first_feature, second_feature - признаки; target_value - метка класса\r\n",
        "columns = {'first_feature': X[:, 0], 'second_feature': X[:, 1], 'target_value': y}\r\n",
        "data = pd.DataFrame(data = columns)\r\n",
        "data.head(10)"
      ],
      "execution_count": 6,
      "outputs": [
        {
          "output_type": "execute_result",
          "data": {
            "text/html": [
              "<div>\n",
              "<style scoped>\n",
              "    .dataframe tbody tr th:only-of-type {\n",
              "        vertical-align: middle;\n",
              "    }\n",
              "\n",
              "    .dataframe tbody tr th {\n",
              "        vertical-align: top;\n",
              "    }\n",
              "\n",
              "    .dataframe thead th {\n",
              "        text-align: right;\n",
              "    }\n",
              "</style>\n",
              "<table border=\"1\" class=\"dataframe\">\n",
              "  <thead>\n",
              "    <tr style=\"text-align: right;\">\n",
              "      <th></th>\n",
              "      <th>first_feature</th>\n",
              "      <th>second_feature</th>\n",
              "      <th>target_value</th>\n",
              "    </tr>\n",
              "  </thead>\n",
              "  <tbody>\n",
              "    <tr>\n",
              "      <th>0</th>\n",
              "      <td>3.228883</td>\n",
              "      <td>3.911824</td>\n",
              "      <td>1</td>\n",
              "    </tr>\n",
              "    <tr>\n",
              "      <th>1</th>\n",
              "      <td>5.563205</td>\n",
              "      <td>-0.581941</td>\n",
              "      <td>1</td>\n",
              "    </tr>\n",
              "    <tr>\n",
              "      <th>2</th>\n",
              "      <td>3.064169</td>\n",
              "      <td>5.221389</td>\n",
              "      <td>0</td>\n",
              "    </tr>\n",
              "    <tr>\n",
              "      <th>3</th>\n",
              "      <td>0.303633</td>\n",
              "      <td>5.844512</td>\n",
              "      <td>3</td>\n",
              "    </tr>\n",
              "    <tr>\n",
              "      <th>4</th>\n",
              "      <td>0.783235</td>\n",
              "      <td>2.475984</td>\n",
              "      <td>0</td>\n",
              "    </tr>\n",
              "    <tr>\n",
              "      <th>5</th>\n",
              "      <td>-1.583040</td>\n",
              "      <td>8.434516</td>\n",
              "      <td>3</td>\n",
              "    </tr>\n",
              "    <tr>\n",
              "      <th>6</th>\n",
              "      <td>-3.166997</td>\n",
              "      <td>5.046561</td>\n",
              "      <td>0</td>\n",
              "    </tr>\n",
              "    <tr>\n",
              "      <th>7</th>\n",
              "      <td>1.756726</td>\n",
              "      <td>4.217394</td>\n",
              "      <td>1</td>\n",
              "    </tr>\n",
              "    <tr>\n",
              "      <th>8</th>\n",
              "      <td>-0.462010</td>\n",
              "      <td>6.393290</td>\n",
              "      <td>3</td>\n",
              "    </tr>\n",
              "    <tr>\n",
              "      <th>9</th>\n",
              "      <td>0.974694</td>\n",
              "      <td>1.517609</td>\n",
              "      <td>1</td>\n",
              "    </tr>\n",
              "  </tbody>\n",
              "</table>\n",
              "</div>"
            ],
            "text/plain": [
              "   first_feature  second_feature  target_value\n",
              "0       3.228883        3.911824             1\n",
              "1       5.563205       -0.581941             1\n",
              "2       3.064169        5.221389             0\n",
              "3       0.303633        5.844512             3\n",
              "4       0.783235        2.475984             0\n",
              "5      -1.583040        8.434516             3\n",
              "6      -3.166997        5.046561             0\n",
              "7       1.756726        4.217394             1\n",
              "8      -0.462010        6.393290             3\n",
              "9       0.974694        1.517609             1"
            ]
          },
          "metadata": {
            "tags": []
          },
          "execution_count": 6
        }
      ]
    },
    {
      "cell_type": "markdown",
      "metadata": {
        "id": "l4I7NgJpIXlD"
      },
      "source": [
        "Train-Test разбиение"
      ]
    },
    {
      "cell_type": "code",
      "metadata": {
        "id": "Ds9xblyLIJTb"
      },
      "source": [
        "X_train, X_test, y_train, y_test = train_test_split(data.drop(columns=['target_value']), data['target_value'], test_size = 0.5, random_state = 42)"
      ],
      "execution_count": 7,
      "outputs": []
    },
    {
      "cell_type": "markdown",
      "metadata": {
        "id": "crsJLyvXIe1S"
      },
      "source": [
        "Реализация байесовского классификатора"
      ]
    },
    {
      "cell_type": "code",
      "metadata": {
        "id": "PkgwvstZIboT"
      },
      "source": [
        "class NaiveBayesClassifier:\r\n",
        "\r\n",
        "  def fit(self, X_train, y_train):\r\n",
        "    self.means = X_train.groupby(y_train).mean()\r\n",
        "    self.stds = X_train.groupby(y_train).std()\r\n",
        "    # априорная вероятность классов (количество элементов класса, деленное на общее количество элементов в тренировочном наборе)\r\n",
        "    self.probs = X_train.groupby(y_train).apply(lambda x: len(x) / X_train.shape[0])\r\n",
        "  \r\n",
        "  def predict(self, X_test):\r\n",
        "    y_pred = []\r\n",
        "    for elem in range(X_test.shape[0]):\r\n",
        "      p = {}\r\n",
        "      for cl in np.unique(y_train):\r\n",
        "        # априорная вероятность для каждого класса\r\n",
        "        p[cl] = self.probs.iloc[cl]\r\n",
        "        for index, param in enumerate(X_test.iloc[elem]):\r\n",
        "          # вычисляется функция правдоподобия и сразу же умножается на полученную выше априорную вероятность класса\r\n",
        "          #  P(H|A) ~ P(H)P(A|H), апостериорная вероятность ~ априорная вероятность * функцию правдопободия\r\n",
        "          p[cl] *= norm.pdf(param, self.means.iloc[cl, index], self.stds.iloc[cl, index])\r\n",
        "      y_pred.append(pd.Series(p).values.argmax())\r\n",
        "    return y_pred"
      ],
      "execution_count": 8,
      "outputs": []
    },
    {
      "cell_type": "code",
      "metadata": {
        "id": "xBTDWYpMIjKt"
      },
      "source": [
        "time_NB = []\r\n",
        "for iter in range(num_iterations):\r\n",
        "  start = time.time()\r\n",
        "  model = NaiveBayesClassifier()\r\n",
        "  model.fit(X_train, y_train)\r\n",
        "  y_pred = model.predict(X_test)\r\n",
        "  time_NB.append(float(time.time() - start))\r\n"
      ],
      "execution_count": 9,
      "outputs": []
    },
    {
      "cell_type": "code",
      "metadata": {
        "id": "Fz-YlJ_lInWd"
      },
      "source": [
        "score = accuracy_score(y_test, y_pred)\r\n",
        "accuracy.at['реализованный НБ', 'accuracy'] = score "
      ],
      "execution_count": 10,
      "outputs": []
    },
    {
      "cell_type": "markdown",
      "metadata": {
        "id": "wjne95fIIwKT"
      },
      "source": [
        "Оценка работы классификатора, матрица ошибок"
      ]
    },
    {
      "cell_type": "code",
      "metadata": {
        "colab": {
          "base_uri": "https://localhost:8080/"
        },
        "id": "2pJwzGBqIrVJ",
        "outputId": "222da007-5047-46f6-a11b-4334c190ca70"
      },
      "source": [
        "conf_matrix = confusion_matrix(y_test, y_pred)\r\n",
        "print(conf_matrix)"
      ],
      "execution_count": 11,
      "outputs": [
        {
          "output_type": "stream",
          "text": [
            "[[222  54  49  36]\n",
            " [ 52 283  35   0]\n",
            " [ 71  42 243  32]\n",
            " [ 44   0  25 302]]\n"
          ],
          "name": "stdout"
        }
      ]
    },
    {
      "cell_type": "code",
      "metadata": {
        "colab": {
          "base_uri": "https://localhost:8080/"
        },
        "id": "pkGNjsBRI0D7",
        "outputId": "74c4184e-3d6e-40fb-821c-c8381c03e25b"
      },
      "source": [
        "print(classification_report(y_test, y_pred))"
      ],
      "execution_count": 12,
      "outputs": [
        {
          "output_type": "stream",
          "text": [
            "              precision    recall  f1-score   support\n",
            "\n",
            "           0       0.57      0.61      0.59       361\n",
            "           1       0.75      0.76      0.76       370\n",
            "           2       0.69      0.63      0.66       388\n",
            "           3       0.82      0.81      0.82       371\n",
            "\n",
            "    accuracy                           0.70      1490\n",
            "   macro avg       0.71      0.71      0.70      1490\n",
            "weighted avg       0.71      0.70      0.71      1490\n",
            "\n"
          ],
          "name": "stdout"
        }
      ]
    },
    {
      "cell_type": "code",
      "metadata": {
        "id": "NVCwRb86JOz1"
      },
      "source": [
        ""
      ],
      "execution_count": null,
      "outputs": []
    }
  ]
}